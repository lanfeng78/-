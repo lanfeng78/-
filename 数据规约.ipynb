{
 "cells": [
  {
   "cell_type": "markdown",
   "id": "c0aa5576-0f9f-436e-885c-809030a70a0a",
   "metadata": {},
   "source": [
    "## 使用线性判别分析（LDA）在鸢尾花数据集上进行数据规约"
   ]
  },
  {
   "cell_type": "code",
   "execution_count": 2,
   "id": "d632d550-87b6-4037-a551-f26647c16541",
   "metadata": {},
   "outputs": [],
   "source": [
    "# 导入鸢尾花数据集\n",
    "from sklearn.datasets import load_iris"
   ]
  },
  {
   "cell_type": "code",
   "execution_count": 13,
   "id": "c4ab67b9-46b8-438b-9f2e-0c903415f111",
   "metadata": {},
   "outputs": [],
   "source": [
    "# 导入一些必要的库\n",
    "import numpy as np"
   ]
  },
  {
   "cell_type": "code",
   "execution_count": 7,
   "id": "c067f490-4708-4f8a-bc7e-014463a6dccb",
   "metadata": {},
   "outputs": [],
   "source": [
    "# 加载数据集\n",
    "iris = load_iris() \n",
    "# 分别存储数据集的行（样本）和列（特征）\n",
    "iris_X, iris_Y = iris.data, iris.target"
   ]
  },
  {
   "cell_type": "code",
   "execution_count": 9,
   "id": "5559c85c-7f88-4371-8f97-6e486df3be5b",
   "metadata": {},
   "outputs": [
    {
     "data": {
      "text/plain": [
       "((150, 4), (150,))"
      ]
     },
     "execution_count": 9,
     "metadata": {},
     "output_type": "execute_result"
    }
   ],
   "source": [
    "# 查看数据的size\n",
    "iris_X.shape, iris_Y.shape"
   ]
  },
  {
   "cell_type": "code",
   "execution_count": 10,
   "id": "9183c1d2-73c6-4b4b-9772-c8c1adf24946",
   "metadata": {},
   "outputs": [
    {
     "data": {
      "text/plain": [
       "array(['setosa', 'versicolor', 'virginica'], dtype='<U10')"
      ]
     },
     "execution_count": 10,
     "metadata": {},
     "output_type": "execute_result"
    }
   ],
   "source": [
    "# 查看数据的类别\n",
    "iris.target_names"
   ]
  },
  {
   "cell_type": "code",
   "execution_count": 11,
   "id": "b2b36711-9a0e-42da-a2a6-c12cfac31609",
   "metadata": {},
   "outputs": [
    {
     "data": {
      "text/plain": [
       "['sepal length (cm)',\n",
       " 'sepal width (cm)',\n",
       " 'petal length (cm)',\n",
       " 'petal width (cm)']"
      ]
     },
     "execution_count": 11,
     "metadata": {},
     "output_type": "execute_result"
    }
   ],
   "source": [
    "# 查看数据的特征 \n",
    "iris.feature_names"
   ]
  },
  {
   "cell_type": "code",
   "execution_count": 16,
   "id": "50105b36-f6f9-4af8-bf46-73233f20f90c",
   "metadata": {},
   "outputs": [],
   "source": [
    "# 将类别名与标签一一映射\n",
    "label_dict = {i:k for i,k in enumerate(iris.target_names)}"
   ]
  },
  {
   "cell_type": "code",
   "execution_count": 17,
   "id": "8f50a66c-13c1-46c2-84a8-4f26f30b952d",
   "metadata": {},
   "outputs": [
    {
     "data": {
      "text/plain": [
       "{0: 'setosa', 1: 'versicolor', 2: 'virginica'}"
      ]
     },
     "execution_count": 17,
     "metadata": {},
     "output_type": "execute_result"
    }
   ],
   "source": [
    "# 查看映射\n",
    "label_dict"
   ]
  },
  {
   "cell_type": "markdown",
   "id": "3c55a7b2-9907-4dd1-b50b-0b5d0be076a9",
   "metadata": {},
   "source": [
    "### LDA大致分为以下五个步骤\n",
    "1. 计算每个类别的均值向量；\n",
    "2. 计算类内和类间的散布矩阵；\n",
    "3. 计算 $S_W^{-1}$·$S_B$的特征值和特征向量；\n",
    "4. 降序排列特征值，保留前k个特征向量；\n",
    "5. 使用前几个特征向量将数据投影到新空间。"
   ]
  },
  {
   "cell_type": "markdown",
   "id": "ec886cd1-1860-43d3-b3db-fe3a159ba8e8",
   "metadata": {},
   "source": [
    "#### 1. 计算每个类别的均值向量 "
   ]
  },
  {
   "cell_type": "code",
   "execution_count": 21,
   "id": "808fe5ac-d6f4-4b92-bbdb-7e28d1876341",
   "metadata": {},
   "outputs": [
    {
     "name": "stdout",
     "output_type": "stream",
     "text": [
      "setosa [5.006 3.428 1.462 0.246]\n",
      "versicolor [5.936 2.77  4.26  1.326]\n",
      "virginica [6.588 2.974 5.552 2.026]\n"
     ]
    }
   ],
   "source": [
    "mean_vectors = []\n",
    "for cls in [0, 1, 2]:\n",
    "    class_mean_vector = np.mean(iris_X[iris_Y==cls],axis=0)\n",
    "    mean_vectors.append(class_mean_vector)\n",
    "    print(label_dict[cls], class_mean_vector)\n"
   ]
  },
  {
   "cell_type": "markdown",
   "id": "eefc3a9c-884d-4f2b-bc2a-5ff63f0afc52",
   "metadata": {},
   "source": [
    "#### 2. 计算类内和类间的散布矩阵 "
   ]
  },
  {
   "cell_type": "markdown",
   "id": "b0bfaa33-06e1-42b3-b0be-fd09a4ab64b4",
   "metadata": {},
   "source": [
    "类内散布矩阵，定义如下：\n",
    "                    $S_W$ = $\\sum_{i=1}^c$ $S_i$\n",
    "\n",
    "$S_i$的定义是：\n",
    "                    $S_i$ = $\\sum_{x\\in D_i}^n$ $(x - m_i)(x-m_i)^T$\n",
    "\n",
    "其中，$m_i$代表第 $i$ 个类别的均值向量。\n",
    "\n",
    "类间散布矩阵的定义是：\n",
    "                    $S_B$ = $\\sum_{i=1}^c$ $N_i(m_i-m)(m_i-m)^T$\n",
    "\n",
    "\n",
    "$m$是数据集的总体均值，$m_i$是每个类别的样本均值，$N_i$是每个类别的样本大小（观察值数量）"
   ]
  },
  {
   "cell_type": "code",
   "execution_count": 22,
   "id": "b93b9d22-5975-4562-b08e-50f73a2ef8ae",
   "metadata": {},
   "outputs": [
    {
     "name": "stdout",
     "output_type": "stream",
     "text": [
      "[[38.9562 13.63   24.6246  5.645 ]\n",
      " [13.63   16.962   8.1208  4.8084]\n",
      " [24.6246  8.1208 27.2226  6.2718]\n",
      " [ 5.645   4.8084  6.2718  6.1566]]\n"
     ]
    }
   ],
   "source": [
    "# 类内散布矩阵\n",
    "S_W = np.zeros((4,4))\n",
    "for cls, mv in zip(range(3), mean_vectors):\n",
    "    S_cls = np.zeros((4,4))\n",
    "    for row in iris_X[iris_Y == cls]:\n",
    "        row, mv = row.reshape(4,1), mv.reshape(4,1)\n",
    "        S_cls += (row-mv).dot((row-mv).T)\n",
    "    S_W += S_cls\n",
    "    \n",
    "print(S_W)"
   ]
  },
  {
   "cell_type": "code",
   "execution_count": 40,
   "id": "17366fc8-024f-4675-8ef5-916a2fa596cd",
   "metadata": {},
   "outputs": [
    {
     "name": "stdout",
     "output_type": "stream",
     "text": [
      "[[ 63.21213333 -19.95266667 165.2484      71.27933333]\n",
      " [-19.95266667  11.34493333 -57.2396     -22.93266667]\n",
      " [165.2484     -57.2396     437.1028     186.774     ]\n",
      " [ 71.27933333 -22.93266667 186.774       80.41333333]]\n"
     ]
    }
   ],
   "source": [
    "# 类间散布矩阵\n",
    "all_mean = np.mean(iris_X, axis=0).reshape(4,1)\n",
    "S_B = np.zeros((4,4))\n",
    "for cls, mv in zip(range(3), mean_vectors):\n",
    "    mv = mv.reshape(4,1)\n",
    "    S_B += len(iris_X[iris_Y == cls])*(mv-all_mean).dot((mv-all_mean).T)\n",
    "\n",
    "print(S_B)"
   ]
  },
  {
   "cell_type": "markdown",
   "id": "40792182-0991-4e88-b09d-d0501c76adf5",
   "metadata": {},
   "source": [
    "#### 3. 计算 $S_W^{-1}$·$S_B$的特征值和特征向量；"
   ]
  },
  {
   "cell_type": "code",
   "execution_count": 55,
   "id": "223238ea-ff1c-4665-856f-62a113efac67",
   "metadata": {},
   "outputs": [
    {
     "name": "stdout",
     "output_type": "stream",
     "text": [
      "特征向量 1: [ 0.20874182  0.38620369 -0.55401172 -0.7073504 ]\n",
      "特征值 1: 32.19192919827804\n",
      "特征向量 2: [-0.00653196 -0.58661055  0.25256154 -0.76945309]\n",
      "特征值 2: 0.2853910426230688\n",
      "特征向量 3: [ 0.56419916  0.07377204  0.14243606 -0.80990676]\n",
      "特征值 3: 4.959432195627595e-15\n",
      "特征向量 4: [-0.50482739  0.4425648   0.48738477 -0.55833842]\n",
      "特征值 4: -5.788395204902564e-15\n"
     ]
    }
   ],
   "source": [
    "eig_vals, eig_vecs = np.linalg.eig(np.dot(np.linalg.inv(S_W), S_B))\n",
    "\n",
    "for i in range(len(eig_vals)):     \n",
    "    eig_vec_cls = eig_vecs[:,i]     \n",
    "    print('特征向量 {}: {}'.format(i+1, eig_vec_cls))     \n",
    "    print('特征值 {}: {}'.format(i+1, eig_vals[i])) "
   ]
  },
  {
   "cell_type": "markdown",
   "id": "8a3d480f-3d5a-418c-b7cc-8cfbbf4af3ab",
   "metadata": {},
   "source": [
    "#### 4. 降序排列特征值，保留前k个特征向量"
   ]
  },
  {
   "cell_type": "code",
   "execution_count": null,
   "id": "bfd9c2f3-9c54-461a-baa3-bf846b60e29f",
   "metadata": {},
   "outputs": [],
   "source": []
  }
 ],
 "metadata": {
  "kernelspec": {
   "display_name": "Python 3 (ipykernel)",
   "language": "python",
   "name": "python3"
  },
  "language_info": {
   "codemirror_mode": {
    "name": "ipython",
    "version": 3
   },
   "file_extension": ".py",
   "mimetype": "text/x-python",
   "name": "python",
   "nbconvert_exporter": "python",
   "pygments_lexer": "ipython3",
   "version": "3.11.0"
  }
 },
 "nbformat": 4,
 "nbformat_minor": 5
}
